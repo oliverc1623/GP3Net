{
 "cells": [
  {
   "cell_type": "code",
   "execution_count": 3,
   "id": "3c4b906c-a376-4736-a0af-acac3430ad4c",
   "metadata": {
    "tags": []
   },
   "outputs": [],
   "source": [
    "import carla\n",
    "import random\n",
    "from carla_birdeye_view import BirdViewProducer, BirdViewCropType, PixelDimensions"
   ]
  },
  {
   "cell_type": "code",
   "execution_count": 4,
   "id": "55dbdfce-f211-419d-9e8d-a6b41bc9405d",
   "metadata": {
    "tags": []
   },
   "outputs": [
    {
     "data": {
      "text/plain": [
       "<carla.libcarla.World at 0x7ffaf0963810>"
      ]
     },
     "execution_count": 4,
     "metadata": {},
     "output_type": "execute_result"
    }
   ],
   "source": [
    "# Connect to the client and retrieve the world object\n",
    "client = carla.Client('localhost', 2000)\n",
    "world = client.get_world()\n",
    "client.load_world('Town01')"
   ]
  },
  {
   "cell_type": "code",
   "execution_count": 5,
   "id": "14cde7fe-30aa-4227-a9b4-c4ad6ce1835b",
   "metadata": {
    "tags": []
   },
   "outputs": [],
   "source": [
    "ego_bp = world.get_blueprint_library().find('vehicle.dodge.charger_2020')\n",
    "ego_bp.set_attribute('role_name','ego')"
   ]
  },
  {
   "cell_type": "code",
   "execution_count": 6,
   "id": "bf42740a-075d-4915-aa05-019a16e8da2a",
   "metadata": {
    "tags": []
   },
   "outputs": [
    {
     "name": "stdout",
     "output_type": "stream",
     "text": [
      "\n",
      "Ego is spawned\n"
     ]
    }
   ],
   "source": [
    "spawn_points = world.get_map().get_spawn_points()\n",
    "number_of_spawn_points = len(spawn_points)\n",
    "if 0 < number_of_spawn_points:\n",
    "    random.shuffle(spawn_points)\n",
    "    ego_transform = spawn_points[0]\n",
    "    ego_vehicle = world.spawn_actor(ego_bp,ego_transform)\n",
    "    print('\\nEgo is spawned')\n",
    "else: \n",
    "    logging.warning('Could not found any spawn points')"
   ]
  },
  {
   "cell_type": "code",
   "execution_count": 7,
   "id": "df8d2229-6101-425a-a22d-0921a645dad0",
   "metadata": {
    "tags": []
   },
   "outputs": [],
   "source": [
    "spectator = world.get_spectator()\n",
    "world_snapshot = world.wait_for_tick() \n",
    "spectator.set_transform(ego_vehicle.get_transform())"
   ]
  },
  {
   "cell_type": "code",
   "execution_count": 6,
   "id": "2635b83d-618f-484c-aeff-16419e58f239",
   "metadata": {
    "tags": []
   },
   "outputs": [],
   "source": [
    "def a_star_search(start_wp, end_wp, heuristic):\n",
    "    open_set = set([start_wp])\n",
    "    came_from = {}\n",
    "    g_score = {start_wp: 0}\n",
    "    f_score = {start_wp: heuristic(start_wp, end_wp)}\n",
    "    \n",
    "    while open_set:\n",
    "        current = min(open_set, key=lambda wp: f_score[wp])\n",
    "        \n",
    "        if current == end_wp:\n",
    "            return reconstruct_path(came_from, current)\n",
    "        \n",
    "        open_set.remove(current)\n",
    "        for neighbor in current.next(2.0):  # 2 meters forward\n",
    "            tentative_g_score = g_score[current] + distance(current, neighbor)\n",
    "            if tentative_g_score < g_score.get(neighbor, float('inf')):\n",
    "                came_from[neighbor] = current\n",
    "                g_score[neighbor] = tentative_g_score\n",
    "                f_score[neighbor] = tentative_g_score + heuristic(neighbor, end_wp)\n",
    "                open_set.add(neighbor)\n",
    "    \n",
    "    return []\n",
    "\n",
    "def heuristic(wp1, wp2):\n",
    "    return wp1.transform.location.distance(wp2.transform.location)\n",
    "\n",
    "def reconstruct_path(came_from, current):\n",
    "    total_path = [current]\n",
    "    while current in came_from:\n",
    "        current = came_from[current]\n",
    "        total_path.append(current)\n",
    "    total_path.reverse()\n",
    "    return total_path"
   ]
  },
  {
   "cell_type": "code",
   "execution_count": 7,
   "id": "a5cbf32e-8868-4513-b352-84af2382b4ba",
   "metadata": {},
   "outputs": [],
   "source": [
    "import random\n",
    "\n",
    "def generate_random_route():\n",
    "    map = world.get_map()\n",
    "    waypoints = map.generate_waypoints(distance=20.0)  # Generate waypoints every 20 meters\n",
    "    start_wp = random.choice(waypoints)\n",
    "    end_wp = random.choice(waypoints)\n",
    "    route = a_star_search(start_wp, end_wp, heuristic)\n",
    "    return route"
   ]
  },
  {
   "cell_type": "code",
   "execution_count": 19,
   "id": "3d2759ea-67bc-4fbf-9920-6795f7cf1586",
   "metadata": {
    "tags": []
   },
   "outputs": [],
   "source": [
    "map = world.get_map()\n",
    "waypoints = map.generate_waypoints(distance=20.0)  "
   ]
  },
  {
   "cell_type": "code",
   "execution_count": 13,
   "id": "6ddbaaf9-4e8a-4d7e-84b2-7ae6e26476fa",
   "metadata": {
    "tags": []
   },
   "outputs": [
    {
     "ename": "AttributeError",
     "evalue": "'Map' object has no attribute 'next_until_lane_end'",
     "output_type": "error",
     "traceback": [
      "\u001b[0;31m---------------------------------------------------------------------------\u001b[0m",
      "\u001b[0;31mAttributeError\u001b[0m                            Traceback (most recent call last)",
      "\u001b[0;32m/tmp/ipykernel_1667803/2964879283.py\u001b[0m in \u001b[0;36m<module>\u001b[0;34m\u001b[0m\n\u001b[0;32m----> 1\u001b[0;31m \u001b[0mmap\u001b[0m\u001b[0;34m.\u001b[0m\u001b[0mnext_until_lane_end\u001b[0m\u001b[0;34m(\u001b[0m\u001b[0;36m20.0\u001b[0m\u001b[0;34m)\u001b[0m\u001b[0;34m\u001b[0m\u001b[0;34m\u001b[0m\u001b[0m\n\u001b[0m",
      "\u001b[0;31mAttributeError\u001b[0m: 'Map' object has no attribute 'next_until_lane_end'"
     ]
    }
   ],
   "source": [
    "map.next_until_lane_end(20.0)"
   ]
  },
  {
   "cell_type": "code",
   "execution_count": 14,
   "id": "38a6985c-a44d-4deb-96ad-4d187f27d279",
   "metadata": {
    "tags": []
   },
   "outputs": [],
   "source": [
    "spawn_points = world.get_map().get_spawn_points()"
   ]
  },
  {
   "cell_type": "code",
   "execution_count": 17,
   "id": "0fb54426-8ed1-47e6-85e5-b689c27dd10e",
   "metadata": {
    "tags": []
   },
   "outputs": [
    {
     "data": {
      "text/plain": [
       "<carla.libcarla.Waypoint at 0x7fc2730e7c30>"
      ]
     },
     "execution_count": 17,
     "metadata": {},
     "output_type": "execute_result"
    }
   ],
   "source": [
    "# Nearest waypoint in the center of a Driving or Sidewalk lane.\n",
    "waypoint01 = map.get_waypoint(ego_vehicle.get_location(),project_to_road=True, lane_type=(carla.LaneType.Driving | carla.LaneType.Sidewalk))\n",
    "waypoint01"
   ]
  },
  {
   "cell_type": "code",
   "execution_count": 24,
   "id": "a1b4b405-dfc8-484d-bb11-6eca93cd5095",
   "metadata": {
    "tags": []
   },
   "outputs": [
    {
     "ename": "AttributeError",
     "evalue": "'Vehicle' object has no attribute 'transform'",
     "output_type": "error",
     "traceback": [
      "\u001b[0;31m---------------------------------------------------------------------------\u001b[0m",
      "\u001b[0;31mAttributeError\u001b[0m                            Traceback (most recent call last)",
      "\u001b[0;32m/tmp/ipykernel_1667803/1364398583.py\u001b[0m in \u001b[0;36m<module>\u001b[0;34m\u001b[0m\n\u001b[0;32m----> 1\u001b[0;31m \u001b[0mmy_geolocation\u001b[0m \u001b[0;34m=\u001b[0m \u001b[0mmap\u001b[0m\u001b[0;34m.\u001b[0m\u001b[0mtransform_to_geolocation\u001b[0m\u001b[0;34m(\u001b[0m\u001b[0mego_vehicle\u001b[0m\u001b[0;34m.\u001b[0m\u001b[0mtransform\u001b[0m\u001b[0;34m)\u001b[0m\u001b[0;34m\u001b[0m\u001b[0;34m\u001b[0m\u001b[0m\n\u001b[0m",
      "\u001b[0;31mAttributeError\u001b[0m: 'Vehicle' object has no attribute 'transform'"
     ]
    }
   ],
   "source": [
    "my_geolocation = map.transform_to_geolocation(ego_vehicle.transform)"
   ]
  },
  {
   "cell_type": "code",
   "execution_count": 25,
   "id": "c70bfe54-fa4d-40e3-95fa-87e55ce9dbee",
   "metadata": {
    "tags": []
   },
   "outputs": [],
   "source": [
    "info_map = map.to_opendrive()"
   ]
  },
  {
   "cell_type": "code",
   "execution_count": 13,
   "id": "e11815a1-f8ff-4e65-b168-c3276be7d5e1",
   "metadata": {
    "tags": []
   },
   "outputs": [],
   "source": [
    "from bird_view_manager import BirdviewSensor\n",
    "import matplotlib.pyplot as plt"
   ]
  },
  {
   "cell_type": "code",
   "execution_count": 18,
   "id": "2310a59d-08cb-4b45-b3f8-a41e06b1df60",
   "metadata": {
    "tags": []
   },
   "outputs": [],
   "source": [
    "bevSensor = BirdviewSensor(world, 400, 40, ego_vehicle)"
   ]
  },
  {
   "cell_type": "code",
   "execution_count": 19,
   "id": "2ad67477-9468-4bc7-8437-2cc0ad1c331a",
   "metadata": {
    "tags": []
   },
   "outputs": [],
   "source": [
    "data = bevSensor.get_data()"
   ]
  },
  {
   "cell_type": "code",
   "execution_count": 20,
   "id": "91f993aa-6510-420e-ba6a-333340190ffb",
   "metadata": {
    "tags": []
   },
   "outputs": [
    {
     "data": {
      "text/plain": [
       "<matplotlib.image.AxesImage at 0x7ffae47dd350>"
      ]
     },
     "execution_count": 20,
     "metadata": {},
     "output_type": "execute_result"
    },
    {
     "data": {
      "image/png": "[encoded data removed]",
      "text/plain": [
       "<Figure size 640x480 with 1 Axes>"
      ]
     },
     "metadata": {},
     "output_type": "display_data"
    }
   ],
   "source": [
    "plt.imshow(data)"
   ]
  },
  {
   "cell_type": "code",
   "execution_count": 21,
   "id": "97b26f7a-8666-4a8b-bbd6-cba0d013eae5",
   "metadata": {
    "tags": []
   },
   "outputs": [
    {
     "ename": "TypeError",
     "evalue": "render_actors() missing 2 required positional arguments: 'surface' and 'angle'",
     "output_type": "error",
     "traceback": [
      "\u001b[0;31m---------------------------------------------------------------------------\u001b[0m",
      "\u001b[0;31mTypeError\u001b[0m                                 Traceback (most recent call last)",
      "\u001b[0;32m/tmp/ipykernel_1682829/3302834864.py\u001b[0m in \u001b[0;36m<module>\u001b[0;34m\u001b[0m\n\u001b[0;32m----> 1\u001b[0;31m \u001b[0mbevSensor\u001b[0m\u001b[0;34m.\u001b[0m\u001b[0mrender_actors\u001b[0m\u001b[0;34m(\u001b[0m\u001b[0;34m)\u001b[0m\u001b[0;34m\u001b[0m\u001b[0;34m\u001b[0m\u001b[0m\n\u001b[0m",
      "\u001b[0;31mTypeError\u001b[0m: render_actors() missing 2 required positional arguments: 'surface' and 'angle'"
     ]
    }
   ],
   "source": [
    "bevSensor.render_actors()"
   ]
  },
  {
   "cell_type": "code",
   "execution_count": null,
   "id": "ee3dc8bc-ac0b-4bbd-9c85-cfe7e9b7ce72",
   "metadata": {},
   "outputs": [],
   "source": []
  }
 ],
 "metadata": {
  "kernelspec": {
   "display_name": "Python 3 (ipykernel)",
   "language": "python",
   "name": "python3"
  },
  "language_info": {
   "codemirror_mode": {
    "name": "ipython",
    "version": 3
   },
   "file_extension": ".py",
   "mimetype": "text/x-python",
   "name": "python",
   "nbconvert_exporter": "python",
   "pygments_lexer": "ipython3",
   "version": "3.7.16"
  }
 },
 "nbformat": 4,
 "nbformat_minor": 5
}
