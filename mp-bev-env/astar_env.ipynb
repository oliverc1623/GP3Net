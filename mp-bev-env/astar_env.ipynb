{
 "cells": [
  {
   "cell_type": "code",
   "execution_count": 1,
   "id": "563406d2-8cd3-4b14-9dd5-99309c169bb3",
   "metadata": {
    "tags": []
   },
   "outputs": [],
   "source": [
    "import carla\n",
    "import random\n",
    "import math\n",
    "from agents.navigation.basic_agent import BasicAgent\n",
    "from agents.navigation.behavior_agent import BehaviorAgent"
   ]
  },
  {
   "cell_type": "code",
   "execution_count": 2,
   "id": "46de95d6-5d7e-4d5f-8c33-f4ab6b858798",
   "metadata": {
    "tags": []
   },
   "outputs": [
    {
     "data": {
      "text/plain": [
       "<carla.libcarla.World at 0x7f4bf2fc36c0>"
      ]
     },
     "execution_count": 2,
     "metadata": {},
     "output_type": "execute_result"
    }
   ],
   "source": [
    "# Connect to the client and retrieve the world object\n",
    "client = carla.Client('localhost', 2000)\n",
    "world = client.get_world()\n",
    "client.load_world('Town01')"
   ]
  },
  {
   "cell_type": "code",
   "execution_count": 3,
   "id": "5ef4fd46-cd02-4a48-b1f5-6dfeb819d57a",
   "metadata": {
    "tags": []
   },
   "outputs": [],
   "source": [
    "ego_bp = world.get_blueprint_library().find('vehicle.dodge.charger_2020')\n",
    "ego_bp.set_attribute('role_name','ego')"
   ]
  },
  {
   "cell_type": "code",
   "execution_count": 5,
   "id": "a90389d8-6d91-4805-9fcf-70a49c2091c9",
   "metadata": {
    "tags": []
   },
   "outputs": [],
   "source": [
    "def a_star_search(start_wp, end_wp, heuristic):\n",
    "    open_set = set([start_wp])\n",
    "    came_from = {}\n",
    "    g_score = {start_wp: 0}\n",
    "    f_score = {start_wp: heuristic(start_wp, end_wp)}\n",
    "    while open_set:\n",
    "        current = min(open_set, key=lambda wp: f_score[wp])\n",
    "        if current == end_wp:\n",
    "            return reconstruct_path(came_from, current)\n",
    "        open_set.remove(current)\n",
    "        for neighbor in current.next(2.0):  # 2 meters forward\n",
    "            tentative_g_score = g_score[current] + distance(current, neighbor)\n",
    "            if tentative_g_score < g_score.get(neighbor, float('inf')):\n",
    "                came_from[neighbor] = current\n",
    "                g_score[neighbor] = tentative_g_score\n",
    "                f_score[neighbor] = tentative_g_score + heuristic(neighbor, end_wp)\n",
    "                open_set.add(neighbor)\n",
    "    return []\n",
    "\n",
    "def heuristic(wp1, wp2):\n",
    "    return wp1.transform.location.distance(wp2.transform.location)\n",
    "\n",
    "def reconstruct_path(came_from, current):\n",
    "    total_path = [current]\n",
    "    while current in came_from:\n",
    "        current = came_from[current]\n",
    "        total_path.append(current)\n",
    "    total_path.reverse()\n",
    "    return total_path\n",
    "\n",
    "def distance(wp1, wp2):\n",
    "    loc1 = wp1.transform.location\n",
    "    loc2 = wp2.transform.location\n",
    "    return math.sqrt((loc1.x - loc2.x)**2 + (loc1.y - loc2.y)**2 + (loc1.z - loc2.z)**2)\n",
    "\n",
    "def generate_random_route():\n",
    "    map = world.get_map()\n",
    "    waypoints = map.generate_waypoints(distance=20.0)  # Generate waypoints every 20 meters\n",
    "    start_wp = random.choice(waypoints)\n",
    "    end_wp = random.choice(waypoints)\n",
    "    route = a_star_search(start_wp, end_wp, heuristic)\n",
    "    return route\n",
    "\n",
    "def follow_vehicle(client, vehicle, offset=carla.Location(x=-6, z=2), pitch=-15):\n",
    "    spectator = world.get_spectator()\n",
    "    transform = vehicle.get_transform()\n",
    "    location = transform.location + transform.get_forward_vector() * offset.x + carla.Location(z=offset.z)\n",
    "    rotation = carla.Rotation(pitch=pitch, yaw=transform.rotation.yaw + 0, roll=0)\n",
    "    spectator.set_transform(carla.Transform(location, rotation))"
   ]
  },
  {
   "cell_type": "code",
   "execution_count": 6,
   "id": "67d87945-1520-4507-b43c-77415054bec7",
   "metadata": {
    "tags": []
   },
   "outputs": [],
   "source": [
    "from agents.navigation.global_route_planner import GlobalRoutePlanner"
   ]
  },
  {
   "cell_type": "code",
   "execution_count": 7,
   "id": "7d24a664-5d28-4a68-abaf-e78d383d1f0f",
   "metadata": {
    "tags": []
   },
   "outputs": [],
   "source": [
    "amap = world.get_map()\n",
    "sampling_resolution = 2\n",
    "grp = GlobalRoutePlanner(amap, sampling_resolution)\n",
    "spawn_points = world.get_map().get_spawn_points()\n",
    "a = carla.Location(spawn_points[50].location)\n",
    "b = carla.Location(spawn_points[100].location)\n",
    "w1 = grp.trace_route(a, b) # there are other funcations can be used to generate a route in GlobalRoutePlanner.\n",
    "i = 0\n",
    "for w in w1:\n",
    "    if i % 10 == 0:\n",
    "        world.debug.draw_string(w[0].transform.location, 'O', draw_shadow=False,\n",
    "        color=carla.Color(r=255, g=0, b=0), life_time=120.0,\n",
    "        persistent_lines=True)\n",
    "    else:\n",
    "        world.debug.draw_string(w[0].transform.location, 'O', draw_shadow=False,\n",
    "        color = carla.Color(r=0, g=0, b=255), life_time=1000.0,\n",
    "        persistent_lines=True)\n",
    "    i += 1"
   ]
  },
  {
   "cell_type": "code",
   "execution_count": 8,
   "id": "1ab5da35-e95f-48a6-a50c-c6f503bac2f8",
   "metadata": {
    "tags": []
   },
   "outputs": [
    {
     "name": "stdout",
     "output_type": "stream",
     "text": [
      "\n",
      "Ego is spawned\n"
     ]
    }
   ],
   "source": [
    "ego_transform = spawn_points[50]\n",
    "ego_vehicle = world.spawn_actor(ego_bp,ego_transform)\n",
    "print('\\nEgo is spawned')"
   ]
  },
  {
   "cell_type": "code",
   "execution_count": 9,
   "id": "7de8caa6-f984-42d9-a969-2cabcc94ec48",
   "metadata": {
    "tags": []
   },
   "outputs": [],
   "source": [
    "follow_vehicle(client, ego_vehicle)"
   ]
  },
  {
   "cell_type": "code",
   "execution_count": 11,
   "id": "737b74a7-894f-4208-b528-34125f7d75d7",
   "metadata": {
    "tags": []
   },
   "outputs": [],
   "source": [
    "# To start a basic agent\n",
    "agent = BasicAgent(ego_vehicle)\n",
    "destination = spawn_points[100].location\n",
    "agent.set_destination(destination)"
   ]
  },
  {
   "cell_type": "code",
   "execution_count": null,
   "id": "edbadfc1-9c08-48d4-8b4e-89e44e5965da",
   "metadata": {
    "tags": []
   },
   "outputs": [],
   "source": [
    "while True:\n",
    "    if agent.done():\n",
    "        print(\"The target has been reached, stopping the simulation\")\n",
    "        break\n",
    "    ego_vehicle.apply_control(agent.run_step())\n",
    "    follow_vehicle(client, ego_vehicle)"
   ]
  },
  {
   "cell_type": "code",
   "execution_count": null,
   "id": "87ba42ee-5e9d-418c-86ea-b4ece16ea0b8",
   "metadata": {},
   "outputs": [],
   "source": []
  }
 ],
 "metadata": {
  "kernelspec": {
   "display_name": "Python 3 (ipykernel)",
   "language": "python",
   "name": "python3"
  },
  "language_info": {
   "codemirror_mode": {
    "name": "ipython",
    "version": 3
   },
   "file_extension": ".py",
   "mimetype": "text/x-python",
   "name": "python",
   "nbconvert_exporter": "python",
   "pygments_lexer": "ipython3",
   "version": "3.7.16"
  }
 },
 "nbformat": 4,
 "nbformat_minor": 5
}
