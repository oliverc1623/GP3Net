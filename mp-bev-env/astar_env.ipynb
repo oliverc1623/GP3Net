{
 "cells": [
  {
   "cell_type": "code",
   "execution_count": 99,
   "id": "563406d2-8cd3-4b14-9dd5-99309c169bb3",
   "metadata": {
    "tags": []
   },
   "outputs": [],
   "source": [
    "import carla\n",
    "import random\n",
    "import math\n",
    "from agents.navigation.basic_agent import BasicAgent\n",
    "from agents.navigation.behavior_agent import BehaviorAgent"
   ]
  },
  {
   "cell_type": "code",
   "execution_count": 100,
   "id": "46de95d6-5d7e-4d5f-8c33-f4ab6b858798",
   "metadata": {
    "tags": []
   },
   "outputs": [
    {
     "data": {
      "text/plain": [
       "<carla.libcarla.World at 0x7f8ec963c5e0>"
      ]
     },
     "execution_count": 100,
     "metadata": {},
     "output_type": "execute_result"
    }
   ],
   "source": [
    "# Connect to the client and retrieve the world object\n",
    "client = carla.Client('localhost', 2000)\n",
    "world = client.get_world()\n",
    "client.load_world('Town01')"
   ]
  },
  {
   "cell_type": "code",
   "execution_count": 110,
   "id": "5ef4fd46-cd02-4a48-b1f5-6dfeb819d57a",
   "metadata": {
    "tags": []
   },
   "outputs": [],
   "source": [
    "ego_bp = world.get_blueprint_library().find('vehicle.dodge.charger_2020')\n",
    "ego_bp.set_attribute('role_name','ego')"
   ]
  },
  {
   "cell_type": "code",
   "execution_count": 111,
   "id": "9c3032f0-69cd-4127-aea0-ac047b466eb4",
   "metadata": {
    "tags": []
   },
   "outputs": [
    {
     "name": "stdout",
     "output_type": "stream",
     "text": [
      "\n",
      "Ego is spawned\n"
     ]
    }
   ],
   "source": [
    "spawn_points = world.get_map().get_spawn_points()\n",
    "number_of_spawn_points = len(spawn_points)\n",
    "if 0 < number_of_spawn_points:\n",
    "    random.shuffle(spawn_points)\n",
    "    ego_transform = spawn_points[0]\n",
    "    ego_vehicle = world.spawn_actor(ego_bp,ego_transform)\n",
    "    print('\\nEgo is spawned')\n",
    "else: \n",
    "    logging.warning('Could not found any spawn points')"
   ]
  },
  {
   "cell_type": "code",
   "execution_count": 112,
   "id": "99c13e61-953b-4c01-9c9c-cca96f05ddb7",
   "metadata": {
    "tags": []
   },
   "outputs": [],
   "source": [
    "spectator = world.get_spectator()\n",
    "world_snapshot = world.wait_for_tick() \n",
    "ego_vehicle_transform = ego_vehicle.get_transform()\n",
    "spectator.set_transform(\n",
    "    carla.Transform(\n",
    "        ego_vehicle_transform.location + carla.Location(x=5, z=2),  # location\n",
    "        carla.Rotation(pitch=-20, yaw=180, roll=0) #rotation\n",
    "    )\n",
    ")"
   ]
  },
  {
   "cell_type": "code",
   "execution_count": 113,
   "id": "a90389d8-6d91-4805-9fcf-70a49c2091c9",
   "metadata": {
    "tags": []
   },
   "outputs": [],
   "source": [
    "def a_star_search(start_wp, end_wp, heuristic):\n",
    "    open_set = set([start_wp])\n",
    "    came_from = {}\n",
    "    g_score = {start_wp: 0}\n",
    "    f_score = {start_wp: heuristic(start_wp, end_wp)}\n",
    "    while open_set:\n",
    "        current = min(open_set, key=lambda wp: f_score[wp])\n",
    "        if current == end_wp:\n",
    "            return reconstruct_path(came_from, current)\n",
    "        open_set.remove(current)\n",
    "        for neighbor in current.next(2.0):  # 2 meters forward\n",
    "            tentative_g_score = g_score[current] + distance(current, neighbor)\n",
    "            if tentative_g_score < g_score.get(neighbor, float('inf')):\n",
    "                came_from[neighbor] = current\n",
    "                g_score[neighbor] = tentative_g_score\n",
    "                f_score[neighbor] = tentative_g_score + heuristic(neighbor, end_wp)\n",
    "                open_set.add(neighbor)\n",
    "    return []\n",
    "\n",
    "def heuristic(wp1, wp2):\n",
    "    return wp1.transform.location.distance(wp2.transform.location)\n",
    "\n",
    "def reconstruct_path(came_from, current):\n",
    "    total_path = [current]\n",
    "    while current in came_from:\n",
    "        current = came_from[current]\n",
    "        total_path.append(current)\n",
    "    total_path.reverse()\n",
    "    return total_path\n",
    "\n",
    "def distance(wp1, wp2):\n",
    "    loc1 = wp1.transform.location\n",
    "    loc2 = wp2.transform.location\n",
    "    return math.sqrt((loc1.x - loc2.x)**2 + (loc1.y - loc2.y)**2 + (loc1.z - loc2.z)**2)\n",
    "\n",
    "def generate_random_route():\n",
    "    map = world.get_map()\n",
    "    waypoints = map.generate_waypoints(distance=20.0)  # Generate waypoints every 20 meters\n",
    "    start_wp = random.choice(waypoints)\n",
    "    end_wp = random.choice(waypoints)\n",
    "    route = a_star_search(start_wp, end_wp, heuristic)\n",
    "    return route\n",
    "\n",
    "def follow_vehicle(client, vehicle, offset=carla.Location(x=-6, z=2), pitch=-15):\n",
    "    spectator = world.get_spectator()\n",
    "    transform = vehicle.get_transform()\n",
    "    location = transform.location + transform.get_forward_vector() * offset.x + carla.Location(z=offset.z)\n",
    "    rotation = carla.Rotation(pitch=pitch, yaw=transform.rotation.yaw + 0, roll=0)\n",
    "    spectator.set_transform(carla.Transform(location, rotation))"
   ]
  },
  {
   "cell_type": "code",
   "execution_count": 114,
   "id": "ed727bbb-97ab-4c70-ac23-2829c6c2e233",
   "metadata": {
    "tags": []
   },
   "outputs": [],
   "source": [
    "follow_vehicle(client, ego_vehicle)"
   ]
  },
  {
   "cell_type": "code",
   "execution_count": 96,
   "id": "9905d64e-82b2-43f4-9502-3d9383cfe1b2",
   "metadata": {
    "tags": []
   },
   "outputs": [],
   "source": [
    "# To start a basic agent\n",
    "agent = BasicAgent(ego_vehicle)"
   ]
  },
  {
   "cell_type": "code",
   "execution_count": 71,
   "id": "ad5af296-2939-475e-bbb1-d8fc0993c159",
   "metadata": {
    "tags": []
   },
   "outputs": [],
   "source": [
    "destination = random.choice(spawn_points).location\n",
    "agent.set_destination(destination)"
   ]
  },
  {
   "cell_type": "code",
   "execution_count": null,
   "id": "38a218af-9339-4623-bb7b-ecdd046bc6c7",
   "metadata": {
    "tags": []
   },
   "outputs": [],
   "source": [
    "while True:\n",
    "    ego_vehicle.apply_control(agent.run_step())\n",
    "    spectator()"
   ]
  },
  {
   "cell_type": "code",
   "execution_count": null,
   "id": "82ede83c-5726-4de2-b6af-070c0c39a470",
   "metadata": {},
   "outputs": [],
   "source": []
  }
 ],
 "metadata": {
  "kernelspec": {
   "display_name": "Python 3 (ipykernel)",
   "language": "python",
   "name": "python3"
  },
  "language_info": {
   "codemirror_mode": {
    "name": "ipython",
    "version": 3
   },
   "file_extension": ".py",
   "mimetype": "text/x-python",
   "name": "python",
   "nbconvert_exporter": "python",
   "pygments_lexer": "ipython3",
   "version": "3.7.16"
  }
 },
 "nbformat": 4,
 "nbformat_minor": 5
}
