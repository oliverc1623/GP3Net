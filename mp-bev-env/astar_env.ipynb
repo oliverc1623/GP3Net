{
 "cells": [
  {
   "cell_type": "code",
   "execution_count": 1,
   "id": "563406d2-8cd3-4b14-9dd5-99309c169bb3",
   "metadata": {
    "tags": []
   },
   "outputs": [],
   "source": [
    "import carla\n",
    "import random"
   ]
  },
  {
   "cell_type": "code",
   "execution_count": 2,
   "id": "46de95d6-5d7e-4d5f-8c33-f4ab6b858798",
   "metadata": {
    "tags": []
   },
   "outputs": [
    {
     "data": {
      "text/plain": [
       "<carla.libcarla.World at 0x7f8ec9182f10>"
      ]
     },
     "execution_count": 2,
     "metadata": {},
     "output_type": "execute_result"
    }
   ],
   "source": [
    "# Connect to the client and retrieve the world object\n",
    "client = carla.Client('localhost', 2000)\n",
    "world = client.get_world()\n",
    "client.load_world('Town01')"
   ]
  },
  {
   "cell_type": "code",
   "execution_count": 3,
   "id": "5ef4fd46-cd02-4a48-b1f5-6dfeb819d57a",
   "metadata": {
    "tags": []
   },
   "outputs": [],
   "source": [
    "ego_bp = world.get_blueprint_library().find('vehicle.dodge.charger_2020')\n",
    "ego_bp.set_attribute('role_name','ego')"
   ]
  },
  {
   "cell_type": "code",
   "execution_count": 4,
   "id": "9c3032f0-69cd-4127-aea0-ac047b466eb4",
   "metadata": {
    "tags": []
   },
   "outputs": [
    {
     "name": "stdout",
     "output_type": "stream",
     "text": [
      "\n",
      "Ego is spawned\n"
     ]
    }
   ],
   "source": [
    "spawn_points = world.get_map().get_spawn_points()\n",
    "number_of_spawn_points = len(spawn_points)\n",
    "if 0 < number_of_spawn_points:\n",
    "    random.shuffle(spawn_points)\n",
    "    ego_transform = spawn_points[0]\n",
    "    ego_vehicle = world.spawn_actor(ego_bp,ego_transform)\n",
    "    print('\\nEgo is spawned')\n",
    "else: \n",
    "    logging.warning('Could not found any spawn points')"
   ]
  },
  {
   "cell_type": "code",
   "execution_count": 38,
   "id": "99c13e61-953b-4c01-9c9c-cca96f05ddb7",
   "metadata": {
    "tags": []
   },
   "outputs": [],
   "source": [
    "spectator = world.get_spectator()\n",
    "world_snapshot = world.wait_for_tick() \n",
    "ego_vehicle_transform = ego_vehicle.get_transform()\n",
    "spectator.set_transform(\n",
    "    carla.Transform(\n",
    "        ego_vehicle_transform.location + carla.Location(x=5, z=2),  # location\n",
    "        carla.Rotation(pitch=-20, yaw=180, roll=0) #rotation\n",
    "    )\n",
    ")"
   ]
  },
  {
   "cell_type": "code",
   "execution_count": null,
   "id": "a90389d8-6d91-4805-9fcf-70a49c2091c9",
   "metadata": {},
   "outputs": [],
   "source": []
  }
 ],
 "metadata": {
  "kernelspec": {
   "display_name": "Python 3 (ipykernel)",
   "language": "python",
   "name": "python3"
  },
  "language_info": {
   "codemirror_mode": {
    "name": "ipython",
    "version": 3
   },
   "file_extension": ".py",
   "mimetype": "text/x-python",
   "name": "python",
   "nbconvert_exporter": "python",
   "pygments_lexer": "ipython3",
   "version": "3.7.16"
  }
 },
 "nbformat": 4,
 "nbformat_minor": 5
}
