{
 "cells": [
  {
   "cell_type": "code",
   "execution_count": 1,
   "id": "563406d2-8cd3-4b14-9dd5-99309c169bb3",
   "metadata": {
    "tags": []
   },
   "outputs": [
    {
     "name": "stdout",
     "output_type": "stream",
     "text": [
      "pygame 2.1.2 (SDL 2.0.16, Python 3.7.16)\n",
      "Hello from the pygame community. https://www.pygame.org/contribute.html\n"
     ]
    }
   ],
   "source": [
    "import carla\n",
    "import random\n",
    "import math\n",
    "from agents.navigation.basic_agent import BasicAgent\n",
    "from agents.navigation.behavior_agent import BehaviorAgent\n",
    "from bird_view_manager import BirdviewSensor\n",
    "import matplotlib.pyplot as plt\n",
    "from agents.navigation.global_route_planner import GlobalRoutePlanner\n",
    "import gymnasium as gym\n",
    "import numpy as np\n",
    "from gymnasium import spaces"
   ]
  },
  {
   "cell_type": "code",
   "execution_count": 2,
   "id": "46de95d6-5d7e-4d5f-8c33-f4ab6b858798",
   "metadata": {
    "tags": []
   },
   "outputs": [
    {
     "data": {
      "text/plain": [
       "<carla.libcarla.World at 0x7fb2f13402d0>"
      ]
     },
     "execution_count": 2,
     "metadata": {},
     "output_type": "execute_result"
    }
   ],
   "source": [
    "# Connect to the client and retrieve the world object\n",
    "client = carla.Client('localhost', 2000)\n",
    "world = client.get_world()\n",
    "client.load_world('Town01')"
   ]
  },
  {
   "cell_type": "code",
   "execution_count": 3,
   "id": "5ef4fd46-cd02-4a48-b1f5-6dfeb819d57a",
   "metadata": {
    "tags": []
   },
   "outputs": [],
   "source": [
    "ego_bp = world.get_blueprint_library().find('vehicle.dodge.charger_2020')\n",
    "ego_bp.set_attribute('role_name','ego')"
   ]
  },
  {
   "cell_type": "code",
   "execution_count": 4,
   "id": "a90389d8-6d91-4805-9fcf-70a49c2091c9",
   "metadata": {
    "tags": []
   },
   "outputs": [],
   "source": [
    "def follow_vehicle(client, vehicle, offset=carla.Location(x=-6, z=2), pitch=-15):\n",
    "    spectator = world.get_spectator()\n",
    "    transform = vehicle.get_transform()\n",
    "    location = transform.location + transform.get_forward_vector() * offset.x + carla.Location(z=offset.z)\n",
    "    rotation = carla.Rotation(pitch=pitch, yaw=transform.rotation.yaw + 0, roll=0)\n",
    "    spectator.set_transform(carla.Transform(location, rotation))"
   ]
  },
  {
   "cell_type": "code",
   "execution_count": 5,
   "id": "7d24a664-5d28-4a68-abaf-e78d383d1f0f",
   "metadata": {
    "tags": []
   },
   "outputs": [],
   "source": [
    "amap = world.get_map()\n",
    "sampling_resolution = 2\n",
    "grp = GlobalRoutePlanner(amap, sampling_resolution)\n",
    "spawn_points = world.get_map().get_spawn_points()\n",
    "point_a, point_b = random.sample(spawn_points, 2)\n",
    "a = carla.Location(point_a.location)\n",
    "b = carla.Location(point_b.location)\n",
    "w1 = grp.trace_route(a, b) # there are other funcations can be used to generate a route in GlobalRoutePlanner.\n",
    "i = 0\n",
    "for w in w1:\n",
    "    if i % 10 == 0:\n",
    "        world.debug.draw_string(w[0].transform.location, 'O', draw_shadow=False,\n",
    "        color=carla.Color(r=255, g=0, b=0), life_time=120.0,\n",
    "        persistent_lines=True)\n",
    "    else:\n",
    "        world.debug.draw_string(w[0].transform.location, 'O', draw_shadow=False,\n",
    "        color = carla.Color(r=0, g=0, b=255), life_time=1000.0,\n",
    "        persistent_lines=True)\n",
    "    i += 1"
   ]
  },
  {
   "cell_type": "code",
   "execution_count": 6,
   "id": "1ab5da35-e95f-48a6-a50c-c6f503bac2f8",
   "metadata": {
    "tags": []
   },
   "outputs": [
    {
     "name": "stdout",
     "output_type": "stream",
     "text": [
      "\n",
      "Ego is spawned\n"
     ]
    }
   ],
   "source": [
    "ego_transform = point_a\n",
    "ego_vehicle = world.spawn_actor(ego_bp,ego_transform)\n",
    "print('\\nEgo is spawned')"
   ]
  },
  {
   "cell_type": "code",
   "execution_count": 53,
   "id": "7de8caa6-f984-42d9-a969-2cabcc94ec48",
   "metadata": {
    "tags": []
   },
   "outputs": [],
   "source": [
    "follow_vehicle(client, ego_vehicle)"
   ]
  },
  {
   "cell_type": "code",
   "execution_count": 100,
   "id": "edbadfc1-9c08-48d4-8b4e-89e44e5965da",
   "metadata": {
    "tags": []
   },
   "outputs": [
    {
     "ename": "KeyboardInterrupt",
     "evalue": "",
     "output_type": "error",
     "traceback": [
      "\u001b[0;31m---------------------------------------------------------------------------\u001b[0m",
      "\u001b[0;31mKeyboardInterrupt\u001b[0m                         Traceback (most recent call last)",
      "\u001b[0;32m/tmp/ipykernel_2764527/116606575.py\u001b[0m in \u001b[0;36m<module>\u001b[0;34m\u001b[0m\n\u001b[1;32m      3\u001b[0m         \u001b[0mprint\u001b[0m\u001b[0;34m(\u001b[0m\u001b[0;34m\"The target has been reached, stopping the simulation\"\u001b[0m\u001b[0;34m)\u001b[0m\u001b[0;34m\u001b[0m\u001b[0;34m\u001b[0m\u001b[0m\n\u001b[1;32m      4\u001b[0m         \u001b[0;32mbreak\u001b[0m\u001b[0;34m\u001b[0m\u001b[0;34m\u001b[0m\u001b[0m\n\u001b[0;32m----> 5\u001b[0;31m     \u001b[0mego_vehicle\u001b[0m\u001b[0;34m.\u001b[0m\u001b[0mapply_control\u001b[0m\u001b[0;34m(\u001b[0m\u001b[0mmyAgent\u001b[0m\u001b[0;34m.\u001b[0m\u001b[0mrun_step\u001b[0m\u001b[0;34m(\u001b[0m\u001b[0;34m)\u001b[0m\u001b[0;34m)\u001b[0m\u001b[0;34m\u001b[0m\u001b[0;34m\u001b[0m\u001b[0m\n\u001b[0m",
      "\u001b[0;31mKeyboardInterrupt\u001b[0m: "
     ]
    }
   ],
   "source": [
    "while True:\n",
    "    if myAgent.done():\n",
    "        print(\"The target has been reached, stopping the simulation\")\n",
    "        break\n",
    "    ego_vehicle.apply_control(myAgent.run_step())"
   ]
  },
  {
   "cell_type": "code",
   "execution_count": null,
   "id": "be7d8b20-51c5-4838-a270-06984059fff7",
   "metadata": {},
   "outputs": [],
   "source": [
    "class MotionPlanningEnv(gym.Env):\n",
    "    metadata = {\"render_modes\": [\"human\"], \"render_fps\": 30}\n",
    "    def __init__(self):\n",
    "        super().__init__()\n",
    "        # Define action and observation space\n",
    "        # They must be gym.spaces objects\n",
    "        # Example when using discrete actions:\n",
    "        self.action_space = spaces.Discrete(N_DISCRETE_ACTIONS)\n",
    "        # Example for using image as input (channel-first; channel-last also works):\n",
    "        self.observation_space = spaces.Box(\n",
    "            low=0, \n",
    "            high=255,\n",
    "            shape=(N_CHANNELS, HEIGHT, WIDTH), \n",
    "            dtype=np.uint8\n",
    "       )"
   ]
  },
  {
   "cell_type": "code",
   "execution_count": null,
   "id": "73d79bf9-8da8-4286-aa35-728df537ac7f",
   "metadata": {},
   "outputs": [],
   "source": [
    "from chauffeurnet import ObsManager\n",
    "from carla_gym.core.task_actor.common.criteria import blocked, collision, outside_route_lane, route_deviation, run_stop_sign\n",
    "from carla_gym.core.task_actor.common.criteria import encounter_light, run_red_light"
   ]
  },
  {
   "cell_type": "code",
   "execution_count": 9,
   "id": "0f90b59e-5b58-4860-b6d4-d31bd1c96b6d",
   "metadata": {
    "tags": []
   },
   "outputs": [],
   "source": [
    "obs_config = {\n",
    "    \"width_in_pixels\": 192,\n",
    "    \"pixels_ev_to_bottom\": 40,\n",
    "    \"pixels_per_meter\": 5.0,\n",
    "    \"history_idx\": [-16, -11, -6, -1],\n",
    "    \"scale_bbox\": False,\n",
    "    \"scale_mask_col\": 1.1\n",
    "}"
   ]
  },
  {
   "cell_type": "code",
   "execution_count": 10,
   "id": "8110a20c-14ff-45ce-b200-5735b3bc8717",
   "metadata": {
    "tags": []
   },
   "outputs": [],
   "source": [
    "bev = ObsManager(obs_config)"
   ]
  },
  {
   "cell_type": "code",
   "execution_count": 54,
   "id": "a7bb5ef8-3cd9-4fc4-902a-349873404cc5",
   "metadata": {
    "tags": []
   },
   "outputs": [],
   "source": [
    "class CustomAgent(BasicAgent):\n",
    "    def __init__(self, vehicle, route_plan, debug=False):\n",
    "        \"\"\"\n",
    "        :param vehicle: actor to apply to local planner logic onto\n",
    "        :param target_speed: speed (in Km/h) at which the vehicle will move\n",
    "        \"\"\"\n",
    "        super().__init__(vehicle, debug)\n",
    "        self.vehicle=vehicle\n",
    "        self.criteria_blocked = blocked.Blocked()\n",
    "        self.criteria_collision = collision.Collision(self.vehicle, world)\n",
    "        self.criteria_light = run_red_light.RunRedLight(self._map)\n",
    "        self.criteria_encounter_light = encounter_light.EncounterLight()\n",
    "        self.criteria_stop = run_stop_sign.RunStopSign(world)\n",
    "        self.criteria_outside_route_lane = outside_route_lane.OutsideRouteLane(self._map, self.vehicle.get_location())\n",
    "        self.criteria_route_deviation = route_deviation.RouteDeviation()\n",
    "        self.route_plan = route_plan\n",
    "\n",
    "    def run_step(self, debug=False):\n",
    "        \"\"\"\n",
    "        Execute one step of navigation.\n",
    "        :return: carla.VehicleControl\n",
    "        \"\"\"\n",
    "        # Actions to take during each simulation step\n",
    "        control = carla.VehicleControl()\n",
    "        return control"
   ]
  },
  {
   "cell_type": "code",
   "execution_count": 97,
   "id": "014412c0-3c1f-423b-b338-19c176bf767a",
   "metadata": {
    "tags": []
   },
   "outputs": [],
   "source": [
    "myAgent = CustomAgent(vehicle=ego_vehicle, route_plan=w1)\n",
    "myAgent.ignore_traffic_lights(active=False)"
   ]
  },
  {
   "cell_type": "code",
   "execution_count": 70,
   "id": "3956227f-adb6-4dd0-be57-6f46f63cccd3",
   "metadata": {
    "tags": []
   },
   "outputs": [],
   "source": [
    "bev.attach_ego_vehicle(myAgent)"
   ]
  },
  {
   "cell_type": "code",
   "execution_count": 96,
   "id": "ece48b0f-e9d3-4488-9862-3c9c8719f703",
   "metadata": {
    "tags": []
   },
   "outputs": [
    {
     "data": {
      "image/png": "[encoded data removed]",
      "text/plain": [
       "<Figure size 640x480 with 1 Axes>"
      ]
     },
     "metadata": {},
     "output_type": "display_data"
    }
   ],
   "source": [
    "obs = bev.get_observation()\n",
    "plt.imshow(obs['rendered'])\n",
    "plt.show()"
   ]
  },
  {
   "cell_type": "code",
   "execution_count": null,
   "id": "ae84073b-727f-4ee1-bbcb-8e93454634da",
   "metadata": {},
   "outputs": [],
   "source": []
  }
 ],
 "metadata": {
  "kernelspec": {
   "display_name": "Python 3 (ipykernel)",
   "language": "python",
   "name": "python3"
  },
  "language_info": {
   "codemirror_mode": {
    "name": "ipython",
    "version": 3
   },
   "file_extension": ".py",
   "mimetype": "text/x-python",
   "name": "python",
   "nbconvert_exporter": "python",
   "pygments_lexer": "ipython3",
   "version": "3.7.16"
  }
 },
 "nbformat": 4,
 "nbformat_minor": 5
}
